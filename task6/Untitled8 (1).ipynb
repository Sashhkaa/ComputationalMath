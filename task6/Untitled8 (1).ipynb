{
  "nbformat": 4,
  "nbformat_minor": 0,
  "metadata": {
    "colab": {
      "provenance": []
    },
    "kernelspec": {
      "name": "python3",
      "display_name": "Python 3"
    },
    "language_info": {
      "name": "python"
    }
  },
  "cells": [
    {
      "cell_type": "code",
      "execution_count": 8,
      "metadata": {
        "id": "RcuiGlVibq4w"
      },
      "outputs": [],
      "source": [
        "import numpy as np\n",
        "import math as math"
      ]
    },
    {
      "cell_type": "code",
      "source": [
        "def func_1(x):\n",
        "   return np.sin(100.0 * x) * np.exp(-x ** 2.0) * np.cos(2.0 * x)"
      ],
      "metadata": {
        "id": "H5tGSiN3b6vY"
      },
      "execution_count": 2,
      "outputs": []
    },
    {
      "cell_type": "code",
      "source": [
        "def trapezoid(func, a, b, n):\n",
        "  h = (b - a) / n\n",
        "  x_i = 0\n",
        "  f_i = 0\n",
        "  for i in range(0, n, 2):\n",
        "    x_i = a + i * h\n",
        "    f_i += func(x_i)\n",
        "  return f_i"
      ],
      "metadata": {
        "id": "hyqQDt42bvWu"
      },
      "execution_count": 47,
      "outputs": []
    },
    {
      "cell_type": "code",
      "source": [
        "def simson(func, a , b, n):\n",
        "  result = 0\n",
        "  h = (b - a)/2*n\n",
        "  for i in range(1, n , 3):\n",
        "    x_i = a + i * h\n",
        "    x_j = x_i + h\n",
        "    x_k = x_i + 2*h\n",
        "    f_i = func(x_i)\n",
        "    f_j = func(x_j)\n",
        "    f_k = func(x_k)\n",
        "    result += 4.0 * f_j + 3.0 * f_k\n",
        "\n",
        "  result = h/3*(result + func(a) + func(b))\n",
        "  return result\n"
      ],
      "metadata": {
        "id": "F0LwMqXcgeeB"
      },
      "execution_count": 34,
      "outputs": []
    },
    {
      "cell_type": "code",
      "source": [
        "a1 = 0.0\n",
        "b1 = 3.0\n",
        "n1 = 10"
      ],
      "metadata": {
        "id": "KsStSScQoTnt"
      },
      "execution_count": 38,
      "outputs": []
    },
    {
      "cell_type": "code",
      "source": [
        "print(trapezoid(func_1, 0, 3, 1000))\n",
        "print(simson(func_1, 0, 3, 10000))"
      ],
      "metadata": {
        "colab": {
          "base_uri": "https://localhost:8080/"
        },
        "id": "npgFhxiqfI2Z",
        "outputId": "86964a15-47a1-4391-ea27-65b2fb9768a2"
      },
      "execution_count": 48,
      "outputs": [
        {
          "output_type": "stream",
          "name": "stdout",
          "text": [
            "1.617439254028141\n",
            "-0.5923274767718576\n"
          ]
        }
      ]
    },
    {
      "cell_type": "code",
      "source": [
        "Task 2\n",
        "cos(x)/1 + x^2 <= 1/2 при разбиение интегралла на 2(первый от 0 до A, второй от A до бесконечности), получаем, что Int(cos(x)dx/2 + x^2) < e/2\n",
        "Int(1/2dx) < e/2 и подставляя пределы интегрирования A = 5000"
      ],
      "metadata": {
        "id": "sUQ073_K_p-1"
      },
      "execution_count": null,
      "outputs": []
    },
    {
      "cell_type": "code",
      "source": [
        "# https://www.wolframalpha.com/input?i=second+derivative+cos%28x%29+%2F+%282+%2B+x%5E2%29 - second derivative\n",
        "f2_second_der_max_abs = 0.3\n",
        "h = sqrt(12e/f2_second_der_max_abs(b-a)) = 0,000004\n",
        "n = 750000"
      ],
      "metadata": {
        "id": "NZJWsxG__tHE"
      },
      "execution_count": null,
      "outputs": []
    },
    {
      "cell_type": "code",
      "source": [
        "e = 1e-4 #precision\n",
        "n = 750000\n",
        "A = 5000\n"
      ],
      "metadata": {
        "id": "A8yBvdQz3zVT"
      },
      "execution_count": 16,
      "outputs": []
    },
    {
      "cell_type": "code",
      "source": [
        "def func_2(x):\n",
        " return np.cos(x)/(2 + x ** 2.0)"
      ],
      "metadata": {
        "id": "Cn3Kn22sBACU"
      },
      "execution_count": 19,
      "outputs": []
    },
    {
      "cell_type": "code",
      "source": [
        "trapezoid(func_2, 0 , A, n)"
      ],
      "metadata": {
        "id": "EamNqzMeBTvo",
        "colab": {
          "base_uri": "https://localhost:8080/"
        },
        "outputId": "c080a8c0-5325-4375-a64b-ef69b8b3d4f3"
      },
      "execution_count": 29,
      "outputs": [
        {
          "output_type": "execute_result",
          "data": {
            "text/plain": [
              "20.502606871590388"
            ]
          },
          "metadata": {},
          "execution_count": 29
        }
      ]
    },
    {
      "cell_type": "code",
      "source": [
        "Task3"
      ],
      "metadata": {
        "id": "imP0hFkC4LYq"
      },
      "execution_count": null,
      "outputs": []
    },
    {
      "cell_type": "code",
      "source": [
        "a3 = 0.0\n",
        "b3 = 10.0\n",
        "n3 = 100000"
      ],
      "metadata": {
        "id": "wZSLk9AZ7qzO"
      },
      "execution_count": 22,
      "outputs": []
    },
    {
      "cell_type": "code",
      "source": [
        "def by_part(x):\n",
        "    return 2.0 * np.sqrt(x) * np.sin(x)"
      ],
      "metadata": {
        "id": "lqqkhOa07res"
      },
      "execution_count": 49,
      "outputs": []
    },
    {
      "cell_type": "code",
      "source": [
        "def func_3(x):\n",
        "    return 2.0 * np.sqrt(x) * np.cos(x)"
      ],
      "metadata": {
        "id": "t6QhtE2w7uG0"
      },
      "execution_count": 43,
      "outputs": []
    },
    {
      "cell_type": "code",
      "source": [
        "result = (by_part(10.0) - by_part(0.0)) - trapezoid(f3, a3, b3, n3)"
      ],
      "metadata": {
        "id": "bS-UpoJb761w"
      },
      "execution_count": 50,
      "outputs": []
    },
    {
      "cell_type": "code",
      "source": [
        "print(result)"
      ],
      "metadata": {
        "colab": {
          "base_uri": "https://localhost:8080/"
        },
        "id": "rUWTITnU71yj",
        "outputId": "29cd923b-d3cf-4005-c325-4bf05abf76e8"
      },
      "execution_count": 51,
      "outputs": [
        {
          "output_type": "stream",
          "name": "stdout",
          "text": [
            "24822.987465895767\n"
          ]
        }
      ]
    }
  ]
}