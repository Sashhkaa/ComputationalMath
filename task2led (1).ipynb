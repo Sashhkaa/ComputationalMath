{
  "nbformat": 4,
  "nbformat_minor": 0,
  "metadata": {
    "colab": {
      "provenance": []
    },
    "kernelspec": {
      "name": "python3",
      "display_name": "Python 3"
    },
    "language_info": {
      "name": "python"
    }
  },
  "cells": [
    {
      "cell_type": "code",
      "execution_count": 1,
      "metadata": {
        "id": "GFCiF-3pqk9Q",
        "colab": {
          "base_uri": "https://localhost:8080/"
        },
        "outputId": "cd0b7511-d564-4abb-bc97-4ef08f8340fc"
      },
      "outputs": [
        {
          "output_type": "stream",
          "name": "stdout",
          "text": [
            "-13.830000000000346\n"
          ]
        }
      ],
      "source": [
        "# таблицы разностей сделала на листочке\n",
        "import numpy as np\n",
        "import math as mth\n",
        "\n",
        "def reverse_fact(x,k):\n",
        "    res = 1\n",
        "    for i in range(k):\n",
        "        res *= x - i\n",
        "    if k > x:\n",
        "        res = 0\n",
        "    return res\n",
        "\n",
        "#приведение к диагональному виду\n",
        "def makeDiag(matrix):\n",
        "    for nrow in range(len(matrix) - 1, 0, -1):\n",
        "        row = matrix[nrow]\n",
        "        for upper_row in matrix[:nrow]:\n",
        "            factor = upper_row[nrow]\n",
        "            upper_row[-1] -= factor * row[-1]\n",
        "            upper_row[nrow] = 0\n",
        "    return matrix\n",
        "\n",
        "def makePivot(matrix):\n",
        "    for nrow in range(len(matrix)):\n",
        "        pivot = nrow + np.argmax(abs(matrix[nrow:, nrow]))\n",
        "        if pivot != nrow:\n",
        "            matrix[nrow], matrix[pivot] = matrix[pivot], np.copy(matrix[nrow])\n",
        "        row = matrix[nrow]\n",
        "        divider = row[nrow] # диагональный элемент\n",
        "        if abs(divider) < 1e-10:\n",
        "            raise ValueError(\"Система несовместна\")\n",
        "        row /= divider\n",
        "        for lower_row in matrix[nrow+1:]:\n",
        "            factor = lower_row[nrow]\n",
        "            lower_row -= factor*row\n",
        "    return matrix\n",
        "\n",
        "def Gauss_mt(A, b):\n",
        "    shape = A.shape\n",
        "    A = A.copy()\n",
        "    A = np.c_[A, b]\n",
        "    makePivot(A)\n",
        "    makeDiag(A)\n",
        "    return A[:,-1]\n",
        "\n",
        "def Undef_Coef_mt(x,y,n,k): #n-порядок производной, k - номер узла, где вычисляется производная\n",
        "\n",
        "    # Создание матрицы\n",
        "    matrix = np.zeros((len(x),len(x)))\n",
        "    for i in range(len(x)):\n",
        "        for j in range(len(x)):\n",
        "            matrix[i][j] = (j+1) ** i\n",
        "\n",
        "    #Решение системы\n",
        "    b = np.zeros(len(x))\n",
        "    for i in range(len(x)):\n",
        "        if i - n < 0:\n",
        "            p = 0\n",
        "        else:\n",
        "            p = i - n\n",
        "        b[i] = reverse_fact(i,n) * k ** p\n",
        "    coefs = Gauss_mt(matrix,b)\n",
        "\n",
        "    result = 0\n",
        "    for i in range(len(x)):\n",
        "        result += coefs[i] * y[i]\n",
        "\n",
        "    return result\n",
        "\n",
        "def divided_differences(x, f):\n",
        "    n = len(x);\n",
        "    F = np.empty((n, n))\n",
        "    F[:, 0] = f\n",
        "    for k in range(1, n):\n",
        "        F[0:n-k, k] = (F[1:n-k+1, k-1] - F[0:n-k, k-1]) / (x[k:] - x[:-k])\n",
        "    return F\n",
        "\n",
        "def evaluate(x, F, x0):\n",
        "    n = len(x);\n",
        "    P = 0;\n",
        "    xprod = 1.0 # (x - x1) (x - x2) ... (x - xi)\n",
        "    for i in range(n):\n",
        "        P += F[0, i] * xprod\n",
        "        xprod *= (x0 - x[i])\n",
        "    return P\n",
        "\n",
        "#x = np.array(input(\"Type the components of X a space:\").split(' '), dtype='float')\n",
        "#f = np.array(input(\"Type the components of F a space:\").split(' '), dtype='float')\n",
        "\n",
        "x = np.array([1.3, 2.4, 4.7, 6.2, 7.1])\n",
        "f = np.array([0.2, -0.12, 0.45, 1.78, 1.34])\n",
        "\n",
        "interp_F = evaluate(x, divided_differences(x, f),3.45)\n",
        "np.append(x, 3.45)\n",
        "np.append(f, interp_F)\n",
        "\n",
        "value = Undef_Coef_mt(x,f,2,6)\n",
        "print(value)\n"
      ]
    },
    {
      "cell_type": "code",
      "source": [
        "# task 4\n",
        "def trapezoid(func, a, b, n):\n",
        "  h = (b - a) / n\n",
        "  x_i = 0\n",
        "  f_i = 0\n",
        "  for i in range(0, n-1, 1):\n",
        "    x_i = a + i * h\n",
        "    f_i += h * func(x_i)\n",
        "  return f_i"
      ],
      "metadata": {
        "id": "FbgmI_VlrjHQ"
      },
      "execution_count": 5,
      "outputs": []
    },
    {
      "cell_type": "code",
      "source": [
        "def func(x):\n",
        "  return np.cos(x)/(2 + x ** 2.0)"
      ],
      "metadata": {
        "id": "i6wcmT9mrojC"
      },
      "execution_count": 2,
      "outputs": []
    },
    {
      "cell_type": "code",
      "source": [
        "trapezoid(func, 0, 4000, 100)"
      ],
      "metadata": {
        "colab": {
          "base_uri": "https://localhost:8080/"
        },
        "id": "_RoWUXPHr0Ki",
        "outputId": "34fb80ad-dc09-48fc-bbfe-9c2548a9630d"
      },
      "execution_count": 6,
      "outputs": [
        {
          "output_type": "execute_result",
          "data": {
            "text/plain": [
              "19.983877134344304"
            ]
          },
          "metadata": {},
          "execution_count": 6
        }
      ]
    }
  ]
}